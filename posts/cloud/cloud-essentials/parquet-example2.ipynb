{
 "cells": [
  {
   "cell_type": "code",
   "execution_count": 1,
   "metadata": {},
   "outputs": [],
   "source": [
    "import pandas as pd"
   ]
  },
  {
   "cell_type": "code",
   "execution_count": 9,
   "metadata": {},
   "outputs": [],
   "source": [
    "#reading parquet into panda dataframe\n",
    "import pyarrow.parquet as pq"
   ]
  },
  {
   "cell_type": "code",
   "execution_count": 10,
   "metadata": {},
   "outputs": [],
   "source": [
    "table = pq.read_table('data/MonthlyProductSales.parquet')"
   ]
  },
  {
   "cell_type": "code",
   "execution_count": 11,
   "metadata": {},
   "outputs": [
    {
     "data": {
      "text/html": [
       "<div>\n",
       "<style scoped>\n",
       "    .dataframe tbody tr th:only-of-type {\n",
       "        vertical-align: middle;\n",
       "    }\n",
       "\n",
       "    .dataframe tbody tr th {\n",
       "        vertical-align: top;\n",
       "    }\n",
       "\n",
       "    .dataframe thead th {\n",
       "        text-align: right;\n",
       "    }\n",
       "</style>\n",
       "<table border=\"1\" class=\"dataframe\">\n",
       "  <thead>\n",
       "    <tr style=\"text-align: right;\">\n",
       "      <th></th>\n",
       "      <th>Month of Order Date</th>\n",
       "      <th>Product Name</th>\n",
       "      <th>Sales</th>\n",
       "    </tr>\n",
       "  </thead>\n",
       "  <tbody>\n",
       "    <tr>\n",
       "      <th>0</th>\n",
       "      <td>b'2017-01-13'</td>\n",
       "      <td>b'Xerox 1972'</td>\n",
       "      <td>11</td>\n",
       "    </tr>\n",
       "    <tr>\n",
       "      <th>1</th>\n",
       "      <td>b'2017-01-13'</td>\n",
       "      <td>b'Xerox 1923'</td>\n",
       "      <td>37</td>\n",
       "    </tr>\n",
       "    <tr>\n",
       "      <th>2</th>\n",
       "      <td>b'2017-01-13'</td>\n",
       "      <td>b'Xerox 225'</td>\n",
       "      <td>19</td>\n",
       "    </tr>\n",
       "    <tr>\n",
       "      <th>3</th>\n",
       "      <td>b'2017-01-13'</td>\n",
       "      <td>b'Xerox 195'</td>\n",
       "      <td>40</td>\n",
       "    </tr>\n",
       "    <tr>\n",
       "      <th>4</th>\n",
       "      <td>b'2017-01-13'</td>\n",
       "      <td>b'Wireless Extenders zBoost YX545 SOHO Signal ...</td>\n",
       "      <td>756</td>\n",
       "    </tr>\n",
       "    <tr>\n",
       "      <th>...</th>\n",
       "      <td>...</td>\n",
       "      <td>...</td>\n",
       "      <td>...</td>\n",
       "    </tr>\n",
       "    <tr>\n",
       "      <th>9247</th>\n",
       "      <td>b'2017-12-16'</td>\n",
       "      <td>b'14-7/8 x 11 Blue Bar Computer Printout Paper'</td>\n",
       "      <td>96</td>\n",
       "    </tr>\n",
       "    <tr>\n",
       "      <th>9248</th>\n",
       "      <td>b'2017-12-16'</td>\n",
       "      <td>b'6\" Cubicle Wall Clock, Black'</td>\n",
       "      <td>10</td>\n",
       "    </tr>\n",
       "    <tr>\n",
       "      <th>9249</th>\n",
       "      <td>b'2017-12-16'</td>\n",
       "      <td>b'3M Hangers With Command Adhesive'</td>\n",
       "      <td>10</td>\n",
       "    </tr>\n",
       "    <tr>\n",
       "      <th>9250</th>\n",
       "      <td>b'2017-12-16'</td>\n",
       "      <td>b'3.6 Cubic Foot Counter Height Office Refrige...</td>\n",
       "      <td>295</td>\n",
       "    </tr>\n",
       "    <tr>\n",
       "      <th>9251</th>\n",
       "      <td>b'2017-12-16'</td>\n",
       "      <td>b'3-ring staple pack'</td>\n",
       "      <td>9</td>\n",
       "    </tr>\n",
       "  </tbody>\n",
       "</table>\n",
       "<p>9252 rows × 3 columns</p>\n",
       "</div>"
      ],
      "text/plain": [
       "     Month of Order Date                                       Product Name  \\\n",
       "0          b'2017-01-13'                                      b'Xerox 1972'   \n",
       "1          b'2017-01-13'                                      b'Xerox 1923'   \n",
       "2          b'2017-01-13'                                       b'Xerox 225'   \n",
       "3          b'2017-01-13'                                       b'Xerox 195'   \n",
       "4          b'2017-01-13'  b'Wireless Extenders zBoost YX545 SOHO Signal ...   \n",
       "...                  ...                                                ...   \n",
       "9247       b'2017-12-16'    b'14-7/8 x 11 Blue Bar Computer Printout Paper'   \n",
       "9248       b'2017-12-16'                    b'6\" Cubicle Wall Clock, Black'   \n",
       "9249       b'2017-12-16'                b'3M Hangers With Command Adhesive'   \n",
       "9250       b'2017-12-16'  b'3.6 Cubic Foot Counter Height Office Refrige...   \n",
       "9251       b'2017-12-16'                              b'3-ring staple pack'   \n",
       "\n",
       "      Sales  \n",
       "0        11  \n",
       "1        37  \n",
       "2        19  \n",
       "3        40  \n",
       "4       756  \n",
       "...     ...  \n",
       "9247     96  \n",
       "9248     10  \n",
       "9249     10  \n",
       "9250    295  \n",
       "9251      9  \n",
       "\n",
       "[9252 rows x 3 columns]"
      ]
     },
     "execution_count": 11,
     "metadata": {},
     "output_type": "execute_result"
    }
   ],
   "source": [
    "table.to_pandas()"
   ]
  }
 ],
 "metadata": {
  "kernelspec": {
   "display_name": "Python 3",
   "language": "python",
   "name": "python3"
  },
  "language_info": {
   "codemirror_mode": {
    "name": "ipython",
    "version": 3
   },
   "file_extension": ".py",
   "mimetype": "text/x-python",
   "name": "python",
   "nbconvert_exporter": "python",
   "pygments_lexer": "ipython3",
   "version": "3.8.8"
  }
 },
 "nbformat": 4,
 "nbformat_minor": 2
}
