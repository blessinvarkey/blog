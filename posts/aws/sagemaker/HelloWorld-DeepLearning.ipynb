{
 "cells": [
  {
   "cell_type": "code",
   "execution_count": 1,
   "id": "e3bc6fbb",
   "metadata": {
    "scrolled": true
   },
   "outputs": [],
   "source": [
    "# Make sure that we use SageMaker 1.x\n",
    "#!pip install sagemaker==1.72.0\n",
    "\n",
    "#import sagemaker\n",
    "#from sagemaker.tensorflow import TensorFlow"
   ]
  },
  {
   "cell_type": "code",
   "execution_count": 12,
   "id": "ccf2fee0",
   "metadata": {
    "scrolled": false
   },
   "outputs": [],
   "source": [
    "#from sagemaker import get_execution_role\n",
    "#from sagemaker.amazon.amazon_estimator import get_image_uri\n",
    "#from sagemaker.predictor import csv_serializer\n",
    "\n",
    "# This is an object that represents the SageMaker session that we are currently operating in. This\n",
    "# object contains some useful information that we will need to access later such as our region.\n",
    "#session = sagemaker.Session()\n",
    "\n",
    "# This is an object that represents the IAM role that we are currently assigned. When we construct\n",
    "# and launch the training job later we will need to tell it what IAM role it should have. Since our\n",
    "# use case is relatively simple we will simply assign the training job the role we currently have.\n",
    "#role = get_execution_role()"
   ]
  },
  {
   "cell_type": "code",
   "execution_count": 8,
   "id": "eeaace80",
   "metadata": {
    "scrolled": true
   },
   "outputs": [
    {
     "name": "stdout",
     "output_type": "stream",
     "text": [
      "Requirement already satisfied: tensorflow in /home/ec2-user/anaconda3/envs/python3/lib/python3.6/site-packages (2.6.0)\n",
      "Requirement already satisfied: termcolor~=1.1.0 in /home/ec2-user/anaconda3/envs/python3/lib/python3.6/site-packages (from tensorflow) (1.1.0)\n",
      "Requirement already satisfied: flatbuffers~=1.12.0 in /home/ec2-user/anaconda3/envs/python3/lib/python3.6/site-packages (from tensorflow) (1.12)\n",
      "Requirement already satisfied: h5py~=3.1.0 in /home/ec2-user/anaconda3/envs/python3/lib/python3.6/site-packages (from tensorflow) (3.1.0)\n",
      "Requirement already satisfied: protobuf>=3.9.2 in /home/ec2-user/anaconda3/envs/python3/lib/python3.6/site-packages (from tensorflow) (3.15.2)\n",
      "Requirement already satisfied: gast==0.4.0 in /home/ec2-user/anaconda3/envs/python3/lib/python3.6/site-packages (from tensorflow) (0.4.0)\n",
      "Requirement already satisfied: astunparse~=1.6.3 in /home/ec2-user/anaconda3/envs/python3/lib/python3.6/site-packages (from tensorflow) (1.6.3)\n",
      "Requirement already satisfied: wrapt~=1.12.1 in /home/ec2-user/anaconda3/envs/python3/lib/python3.6/site-packages (from tensorflow) (1.12.1)\n",
      "Requirement already satisfied: grpcio<2.0,>=1.37.0 in /home/ec2-user/anaconda3/envs/python3/lib/python3.6/site-packages (from tensorflow) (1.40.0)\n",
      "Requirement already satisfied: opt-einsum~=3.3.0 in /home/ec2-user/anaconda3/envs/python3/lib/python3.6/site-packages (from tensorflow) (3.3.0)\n",
      "Requirement already satisfied: clang~=5.0 in /home/ec2-user/anaconda3/envs/python3/lib/python3.6/site-packages (from tensorflow) (5.0)\n",
      "Requirement already satisfied: keras-preprocessing~=1.1.2 in /home/ec2-user/anaconda3/envs/python3/lib/python3.6/site-packages (from tensorflow) (1.1.2)\n",
      "Requirement already satisfied: tensorboard~=2.6 in /home/ec2-user/anaconda3/envs/python3/lib/python3.6/site-packages (from tensorflow) (2.6.0)\n",
      "Requirement already satisfied: wheel~=0.35 in /home/ec2-user/anaconda3/envs/python3/lib/python3.6/site-packages (from tensorflow) (0.36.2)\n",
      "Requirement already satisfied: keras~=2.6 in /home/ec2-user/anaconda3/envs/python3/lib/python3.6/site-packages (from tensorflow) (2.6.0)\n",
      "Requirement already satisfied: numpy~=1.19.2 in /home/ec2-user/anaconda3/envs/python3/lib/python3.6/site-packages (from tensorflow) (1.19.5)\n",
      "Requirement already satisfied: google-pasta~=0.2 in /home/ec2-user/anaconda3/envs/python3/lib/python3.6/site-packages (from tensorflow) (0.2.0)\n",
      "Requirement already satisfied: absl-py~=0.10 in /home/ec2-user/anaconda3/envs/python3/lib/python3.6/site-packages (from tensorflow) (0.14.0)\n",
      "Requirement already satisfied: six~=1.15.0 in /home/ec2-user/anaconda3/envs/python3/lib/python3.6/site-packages (from tensorflow) (1.15.0)\n",
      "Requirement already satisfied: typing-extensions~=3.7.4 in /home/ec2-user/anaconda3/envs/python3/lib/python3.6/site-packages (from tensorflow) (3.7.4.3)\n",
      "Requirement already satisfied: tensorflow-estimator~=2.6 in /home/ec2-user/anaconda3/envs/python3/lib/python3.6/site-packages (from tensorflow) (2.6.0)\n",
      "Requirement already satisfied: cached-property in /home/ec2-user/anaconda3/envs/python3/lib/python3.6/site-packages (from h5py~=3.1.0->tensorflow) (1.5.1)\n",
      "Requirement already satisfied: markdown>=2.6.8 in /home/ec2-user/anaconda3/envs/python3/lib/python3.6/site-packages (from tensorboard~=2.6->tensorflow) (3.3.4)\n",
      "Requirement already satisfied: requests<3,>=2.21.0 in /home/ec2-user/anaconda3/envs/python3/lib/python3.6/site-packages (from tensorboard~=2.6->tensorflow) (2.26.0)\n",
      "Requirement already satisfied: setuptools>=41.0.0 in /home/ec2-user/anaconda3/envs/python3/lib/python3.6/site-packages (from tensorboard~=2.6->tensorflow) (49.6.0.post20210108)\n",
      "Requirement already satisfied: tensorboard-plugin-wit>=1.6.0 in /home/ec2-user/anaconda3/envs/python3/lib/python3.6/site-packages (from tensorboard~=2.6->tensorflow) (1.8.0)\n",
      "Requirement already satisfied: google-auth<2,>=1.6.3 in /home/ec2-user/anaconda3/envs/python3/lib/python3.6/site-packages (from tensorboard~=2.6->tensorflow) (1.35.0)\n",
      "Requirement already satisfied: werkzeug>=0.11.15 in /home/ec2-user/anaconda3/envs/python3/lib/python3.6/site-packages (from tensorboard~=2.6->tensorflow) (1.0.1)\n",
      "Requirement already satisfied: google-auth-oauthlib<0.5,>=0.4.1 in /home/ec2-user/anaconda3/envs/python3/lib/python3.6/site-packages (from tensorboard~=2.6->tensorflow) (0.4.6)\n",
      "Requirement already satisfied: tensorboard-data-server<0.7.0,>=0.6.0 in /home/ec2-user/anaconda3/envs/python3/lib/python3.6/site-packages (from tensorboard~=2.6->tensorflow) (0.6.1)\n",
      "Requirement already satisfied: pyasn1-modules>=0.2.1 in /home/ec2-user/anaconda3/envs/python3/lib/python3.6/site-packages (from google-auth<2,>=1.6.3->tensorboard~=2.6->tensorflow) (0.2.8)\n",
      "Requirement already satisfied: cachetools<5.0,>=2.0.0 in /home/ec2-user/anaconda3/envs/python3/lib/python3.6/site-packages (from google-auth<2,>=1.6.3->tensorboard~=2.6->tensorflow) (4.2.2)\n",
      "Requirement already satisfied: rsa<5,>=3.1.4 in /home/ec2-user/anaconda3/envs/python3/lib/python3.6/site-packages (from google-auth<2,>=1.6.3->tensorboard~=2.6->tensorflow) (4.7.2)\n",
      "Requirement already satisfied: requests-oauthlib>=0.7.0 in /home/ec2-user/anaconda3/envs/python3/lib/python3.6/site-packages (from google-auth-oauthlib<0.5,>=0.4.1->tensorboard~=2.6->tensorflow) (1.3.0)\n",
      "Requirement already satisfied: importlib-metadata in /home/ec2-user/anaconda3/envs/python3/lib/python3.6/site-packages (from markdown>=2.6.8->tensorboard~=2.6->tensorflow) (3.7.0)\n",
      "Requirement already satisfied: pyasn1<0.5.0,>=0.4.6 in /home/ec2-user/anaconda3/envs/python3/lib/python3.6/site-packages (from pyasn1-modules>=0.2.1->google-auth<2,>=1.6.3->tensorboard~=2.6->tensorflow) (0.4.8)\n",
      "Requirement already satisfied: certifi>=2017.4.17 in /home/ec2-user/anaconda3/envs/python3/lib/python3.6/site-packages (from requests<3,>=2.21.0->tensorboard~=2.6->tensorflow) (2021.5.30)\n",
      "Requirement already satisfied: idna<4,>=2.5 in /home/ec2-user/anaconda3/envs/python3/lib/python3.6/site-packages (from requests<3,>=2.21.0->tensorboard~=2.6->tensorflow) (3.1)\n",
      "Requirement already satisfied: charset-normalizer~=2.0.0 in /home/ec2-user/anaconda3/envs/python3/lib/python3.6/site-packages (from requests<3,>=2.21.0->tensorboard~=2.6->tensorflow) (2.0.6)\n",
      "Requirement already satisfied: urllib3<1.27,>=1.21.1 in /home/ec2-user/anaconda3/envs/python3/lib/python3.6/site-packages (from requests<3,>=2.21.0->tensorboard~=2.6->tensorflow) (1.26.6)\n",
      "Requirement already satisfied: oauthlib>=3.0.0 in /home/ec2-user/anaconda3/envs/python3/lib/python3.6/site-packages (from requests-oauthlib>=0.7.0->google-auth-oauthlib<0.5,>=0.4.1->tensorboard~=2.6->tensorflow) (3.1.1)\n",
      "Requirement already satisfied: zipp>=0.5 in /home/ec2-user/anaconda3/envs/python3/lib/python3.6/site-packages (from importlib-metadata->markdown>=2.6.8->tensorboard~=2.6->tensorflow) (3.4.0)\n"
     ]
    }
   ],
   "source": [
    "!pip install tensorflow"
   ]
  },
  {
   "cell_type": "code",
   "execution_count": 9,
   "id": "f20f3a96",
   "metadata": {
    "scrolled": true
   },
   "outputs": [],
   "source": [
    "import numpy as np\n",
    "import tensorflow as tf\n",
    "from tensorflow import keras\n"
   ]
  },
  {
   "cell_type": "code",
   "execution_count": 10,
   "id": "f8c5b24f",
   "metadata": {},
   "outputs": [],
   "source": [
    "model = tf.keras.Sequential([keras.layers.Dense(units=1, input_shape=[1])])\n",
    "model.compile(optimizer='sgd', loss='mean_squared_error')\n"
   ]
  },
  {
   "cell_type": "code",
   "execution_count": 14,
   "id": "340cb74c",
   "metadata": {},
   "outputs": [
    {
     "name": "stdout",
     "output_type": "stream",
     "text": [
      "Epoch 1/50\n",
      "1/1 [==============================] - 0s 3ms/step - loss: 8.5268e-06\n",
      "Epoch 2/50\n",
      "1/1 [==============================] - 0s 2ms/step - loss: 8.3520e-06\n",
      "Epoch 3/50\n",
      "1/1 [==============================] - 0s 2ms/step - loss: 8.1801e-06\n",
      "Epoch 4/50\n",
      "1/1 [==============================] - 0s 2ms/step - loss: 8.0125e-06\n",
      "Epoch 5/50\n",
      "1/1 [==============================] - 0s 2ms/step - loss: 7.8479e-06\n",
      "Epoch 6/50\n",
      "1/1 [==============================] - 0s 2ms/step - loss: 7.6864e-06\n",
      "Epoch 7/50\n",
      "1/1 [==============================] - 0s 2ms/step - loss: 7.5287e-06\n",
      "Epoch 8/50\n",
      "1/1 [==============================] - 0s 2ms/step - loss: 7.3740e-06\n",
      "Epoch 9/50\n",
      "1/1 [==============================] - 0s 2ms/step - loss: 7.2226e-06\n",
      "Epoch 10/50\n",
      "1/1 [==============================] - 0s 2ms/step - loss: 7.0740e-06\n",
      "Epoch 11/50\n",
      "1/1 [==============================] - 0s 2ms/step - loss: 6.9286e-06\n",
      "Epoch 12/50\n",
      "1/1 [==============================] - 0s 2ms/step - loss: 6.7866e-06\n",
      "Epoch 13/50\n",
      "1/1 [==============================] - 0s 2ms/step - loss: 6.6471e-06\n",
      "Epoch 14/50\n",
      "1/1 [==============================] - 0s 2ms/step - loss: 6.5108e-06\n",
      "Epoch 15/50\n",
      "1/1 [==============================] - 0s 2ms/step - loss: 6.3770e-06\n",
      "Epoch 16/50\n",
      "1/1 [==============================] - 0s 2ms/step - loss: 6.2462e-06\n",
      "Epoch 17/50\n",
      "1/1 [==============================] - 0s 2ms/step - loss: 6.1181e-06\n",
      "Epoch 18/50\n",
      "1/1 [==============================] - 0s 2ms/step - loss: 5.9925e-06\n",
      "Epoch 19/50\n",
      "1/1 [==============================] - 0s 2ms/step - loss: 5.8692e-06\n",
      "Epoch 20/50\n",
      "1/1 [==============================] - 0s 2ms/step - loss: 5.7485e-06\n",
      "Epoch 21/50\n",
      "1/1 [==============================] - 0s 2ms/step - loss: 5.6305e-06\n",
      "Epoch 22/50\n",
      "1/1 [==============================] - 0s 2ms/step - loss: 5.5149e-06\n",
      "Epoch 23/50\n",
      "1/1 [==============================] - 0s 2ms/step - loss: 5.4015e-06\n",
      "Epoch 24/50\n",
      "1/1 [==============================] - 0s 2ms/step - loss: 5.2904e-06\n",
      "Epoch 25/50\n",
      "1/1 [==============================] - 0s 2ms/step - loss: 5.1819e-06\n",
      "Epoch 26/50\n",
      "1/1 [==============================] - 0s 2ms/step - loss: 5.0753e-06\n",
      "Epoch 27/50\n",
      "1/1 [==============================] - 0s 2ms/step - loss: 4.9714e-06\n",
      "Epoch 28/50\n",
      "1/1 [==============================] - 0s 2ms/step - loss: 4.8689e-06\n",
      "Epoch 29/50\n",
      "1/1 [==============================] - 0s 2ms/step - loss: 4.7690e-06\n",
      "Epoch 30/50\n",
      "1/1 [==============================] - 0s 2ms/step - loss: 4.6710e-06\n",
      "Epoch 31/50\n",
      "1/1 [==============================] - 0s 2ms/step - loss: 4.5750e-06\n",
      "Epoch 32/50\n",
      "1/1 [==============================] - 0s 2ms/step - loss: 4.4811e-06\n",
      "Epoch 33/50\n",
      "1/1 [==============================] - 0s 2ms/step - loss: 4.3889e-06\n",
      "Epoch 34/50\n",
      "1/1 [==============================] - 0s 2ms/step - loss: 4.2987e-06\n",
      "Epoch 35/50\n",
      "1/1 [==============================] - 0s 2ms/step - loss: 4.2106e-06\n",
      "Epoch 36/50\n",
      "1/1 [==============================] - 0s 2ms/step - loss: 4.1238e-06\n",
      "Epoch 37/50\n",
      "1/1 [==============================] - 0s 2ms/step - loss: 4.0393e-06\n",
      "Epoch 38/50\n",
      "1/1 [==============================] - 0s 2ms/step - loss: 3.9563e-06\n",
      "Epoch 39/50\n",
      "1/1 [==============================] - 0s 2ms/step - loss: 3.8751e-06\n",
      "Epoch 40/50\n",
      "1/1 [==============================] - 0s 2ms/step - loss: 3.7953e-06\n",
      "Epoch 41/50\n",
      "1/1 [==============================] - 0s 2ms/step - loss: 3.7175e-06\n",
      "Epoch 42/50\n",
      "1/1 [==============================] - 0s 2ms/step - loss: 3.6413e-06\n",
      "Epoch 43/50\n",
      "1/1 [==============================] - 0s 2ms/step - loss: 3.5661e-06\n",
      "Epoch 44/50\n",
      "1/1 [==============================] - 0s 2ms/step - loss: 3.4929e-06\n",
      "Epoch 45/50\n",
      "1/1 [==============================] - 0s 2ms/step - loss: 3.4213e-06\n",
      "Epoch 46/50\n",
      "1/1 [==============================] - 0s 2ms/step - loss: 3.3513e-06\n",
      "Epoch 47/50\n",
      "1/1 [==============================] - 0s 2ms/step - loss: 3.2821e-06\n",
      "Epoch 48/50\n",
      "1/1 [==============================] - 0s 2ms/step - loss: 3.2148e-06\n",
      "Epoch 49/50\n",
      "1/1 [==============================] - 0s 2ms/step - loss: 3.1487e-06\n",
      "Epoch 50/50\n",
      "1/1 [==============================] - 0s 2ms/step - loss: 3.0840e-06\n",
      "[[18.994877]]\n"
     ]
    }
   ],
   "source": [
    "xs = np.array([-1.0,  0.0, 1.0, 2.0, 3.0, 4.0], dtype=float)\n",
    "ys = np.array([-3.0, -1.0, 1.0, 3.0, 5.0, 7.0], dtype=float)\n",
    "model.fit(xs, ys, epochs=50)\n",
    "print(model.predict([10.0]))"
   ]
  },
  {
   "cell_type": "code",
   "execution_count": null,
   "id": "e9919615",
   "metadata": {},
   "outputs": [],
   "source": []
  }
 ],
 "metadata": {
  "kernelspec": {
   "display_name": "conda_python3",
   "language": "python",
   "name": "conda_python3"
  },
  "language_info": {
   "codemirror_mode": {
    "name": "ipython",
    "version": 3
   },
   "file_extension": ".py",
   "mimetype": "text/x-python",
   "name": "python",
   "nbconvert_exporter": "python",
   "pygments_lexer": "ipython3",
   "version": "3.6.13"
  }
 },
 "nbformat": 4,
 "nbformat_minor": 5
}
